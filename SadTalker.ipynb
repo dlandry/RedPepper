{
  "nbformat": 4,
  "nbformat_minor": 0,
  "metadata": {
    "colab": {
      "provenance": [],
      "gpuType": "T4",
      "authorship_tag": "ABX9TyN+N+lDvrkAFeg71NnZoK07",
      "include_colab_link": true
    },
    "kernelspec": {
      "name": "python3",
      "display_name": "Python 3"
    },
    "language_info": {
      "name": "python"
    },
    "accelerator": "GPU"
  },
  "cells": [
    {
      "cell_type": "markdown",
      "metadata": {
        "id": "view-in-github",
        "colab_type": "text"
      },
      "source": [
        "<a href=\"https://colab.research.google.com/github/dlandry/RedPepper/blob/main/SadTalker.ipynb\" target=\"_parent\"><img src=\"https://colab.research.google.com/assets/colab-badge.svg\" alt=\"Open In Colab\"/></a>"
      ]
    },
    {
      "cell_type": "code",
      "execution_count": null,
      "metadata": {
        "colab": {
          "base_uri": "https://localhost:8080/"
        },
        "id": "GwkEXW_qzm1E",
        "outputId": "102de43e-037c-4179-ff90-1c59f8de20bd"
      },
      "outputs": [
        {
          "output_type": "stream",
          "name": "stdout",
          "text": [
            "\u001b[33mWARNING: Running pip as the 'root' user can result in broken permissions and conflicting behaviour with the system package manager. It is recommended to use a virtual environment instead: https://pip.pypa.io/warnings/venv\u001b[0m\u001b[33m\n",
            "\u001b[0m✨🍰✨ Everything looks OK!\n"
          ]
        }
      ],
      "source": [
        "!pip install -q condacolab\n",
        "import condacolab\n",
        "condacolab.install()\n"
      ]
    },
    {
      "cell_type": "code",
      "source": [
        "!pwd\n",
        "!ls -la\n",
        "!conda -V\n",
        "!git clone https://github.com/dlandry/SadTalker.git\n"
      ],
      "metadata": {
        "id": "aI5FfBlF5xYt"
      },
      "execution_count": null,
      "outputs": []
    },
    {
      "cell_type": "code",
      "source": [
        "%cd SadTalker\n",
        "!pwd\n",
        "!ls -la\n",
        "!conda create -n sadtalker python=3.8\n",
        "!conda activate sadtalker\n",
        "!pip install torch==1.12.1+cu113 torchvision==0.13.1+cu113 torchaudio==0.12.1 --extra-index-url https://download.pytorch.org/whl/cu113\n",
        "!conda install ffmpeg\n",
        "!pip install -r requirements.txt\n"
      ],
      "metadata": {
        "id": "fup6Ow42_HpO"
      },
      "execution_count": null,
      "outputs": []
    },
    {
      "cell_type": "code",
      "source": [
        "!pwd\n",
        "!ls -la\n",
        "!wget -V\n",
        "!mkdir checkpoints\n",
        "%cd checkpoints\n",
        "!wget https://github.com/OpenTalker/SadTalker/releases/download/v0.0.2-rc/mapping_00109-model.pth.tar\n",
        "!wget https://github.com/OpenTalker/SadTalker/releases/download/v0.0.2-rc/mapping_00229-model.pth.tar\n",
        "!wget https://github.com/OpenTalker/SadTalker/releases/download/v0.0.2-rc/SadTalker_V0.0.2_256.safetensors\n",
        "!wget https://github.com/OpenTalker/SadTalker/releases/download/v0.0.2-rc/SadTalker_V0.0.2_512.safetensors\n",
        "!wget https://github.com/Winfredy/SadTalker/releases/download/v0.0.2/epoch_20.pth\n",
        "%cd ..\n"
      ],
      "metadata": {
        "id": "fkZoSUsUCgoK"
      },
      "execution_count": null,
      "outputs": []
    },
    {
      "cell_type": "code",
      "source": [
        "! python inference.py --driven_audio resources/script.wav --source_image resources/RedPepper.jpg --still --preprocess full --batch_size 16 --expression_scale 1 --result_dir resources/ --enhancer gfpgan\n"
      ],
      "metadata": {
        "id": "FEJo6xMFKa2O"
      },
      "execution_count": null,
      "outputs": []
    }
  ]
}
